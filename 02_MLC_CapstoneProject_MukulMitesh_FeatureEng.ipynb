{
 "cells": [
  {
   "cell_type": "markdown",
   "metadata": {
    "id": "2WnZgM2d5S3B"
   },
   "source": [
    "Install Boto3"
   ]
  },
  {
   "cell_type": "code",
   "execution_count": 1,
   "metadata": {
    "colab": {
     "base_uri": "https://localhost:8080/"
    },
    "id": "LGiRiVK2sgHx",
    "outputId": "eb146bb7-900e-4be4-fb65-8994ffa8d94d"
   },
   "outputs": [
    {
     "name": "stdout",
     "output_type": "stream",
     "text": [
      "Defaulting to user installation because normal site-packages is not writeable\n",
      "Collecting boto3\n",
      "  Downloading boto3-1.28.10-py3-none-any.whl (135 kB)\n",
      "     |████████████████████████████████| 135 kB 4.7 MB/s            \n",
      "\u001b[?25hRequirement already satisfied: jmespath<2.0.0,>=0.7.1 in /usr/lib/python3.9/site-packages (from boto3) (0.10.0)\n",
      "Collecting s3transfer<0.7.0,>=0.6.0\n",
      "  Downloading s3transfer-0.6.1-py3-none-any.whl (79 kB)\n",
      "     |████████████████████████████████| 79 kB 9.6 MB/s             \n",
      "\u001b[?25hCollecting botocore<1.32.0,>=1.31.10\n",
      "  Downloading botocore-1.31.10-py3-none-any.whl (11.0 MB)\n",
      "     |████████████████████████████████| 11.0 MB 79.6 MB/s            \n",
      "\u001b[?25hRequirement already satisfied: urllib3<1.27,>=1.25.4 in /usr/lib/python3.9/site-packages (from botocore<1.32.0,>=1.31.10->boto3) (1.25.10)\n",
      "Requirement already satisfied: python-dateutil<3.0.0,>=2.1 in ./.local/lib/python3.9/site-packages (from botocore<1.32.0,>=1.31.10->boto3) (2.8.2)\n",
      "Requirement already satisfied: six>=1.5 in /usr/lib/python3.9/site-packages (from python-dateutil<3.0.0,>=2.1->botocore<1.32.0,>=1.31.10->boto3) (1.15.0)\n",
      "Installing collected packages: botocore, s3transfer, boto3\n",
      "Successfully installed boto3-1.28.10 botocore-1.31.10 s3transfer-0.6.1\n"
     ]
    }
   ],
   "source": [
    "#install boto3\n",
    "!pip install boto3"
   ]
  },
  {
   "cell_type": "markdown",
   "metadata": {
    "id": "DEPevlnc5WfQ"
   },
   "source": [
    "Import Libraries"
   ]
  },
  {
   "cell_type": "code",
   "execution_count": 2,
   "metadata": {
    "id": "yXS7sgEEwll-"
   },
   "outputs": [],
   "source": [
    "#import libraries\n",
    "import pandas as pd\n",
    "import numpy as np\n",
    "import matplotlib.pyplot as plt\n",
    "import seaborn as sns\n",
    "import boto3"
   ]
  },
  {
   "cell_type": "markdown",
   "metadata": {
    "id": "nu3BtVDg5ct4"
   },
   "source": [
    "Load Non-event dataset"
   ]
  },
  {
   "cell_type": "code",
   "execution_count": 3,
   "metadata": {},
   "outputs": [
    {
     "name": "stdout",
     "output_type": "stream",
     "text": [
      "download: s3://capstone-mm/final_submission/non_events_init.csv to ./non_events_init.csv\n"
     ]
    }
   ],
   "source": [
    "!aws s3 cp s3://capstone-mm/final_submission/non_events_init.csv ."
   ]
  },
  {
   "cell_type": "code",
   "execution_count": 4,
   "metadata": {
    "id": "I0ycyaUFwUfJ"
   },
   "outputs": [],
   "source": [
    "#read non_events dataset into pandas dataframe\n",
    "dfnev = pd.read_csv('non_events_init.csv', encoding='utf-8')"
   ]
  },
  {
   "cell_type": "code",
   "execution_count": 5,
   "metadata": {
    "colab": {
     "base_uri": "https://localhost:8080/",
     "height": 202
    },
    "id": "ShCnFO994Mkc",
    "outputId": "01a9c832-bc27-43fd-a20b-0a5f3d636e13"
   },
   "outputs": [
    {
     "data": {
      "text/html": [
       "<div>\n",
       "<style scoped>\n",
       "    .dataframe tbody tr th:only-of-type {\n",
       "        vertical-align: middle;\n",
       "    }\n",
       "\n",
       "    .dataframe tbody tr th {\n",
       "        vertical-align: top;\n",
       "    }\n",
       "\n",
       "    .dataframe thead th {\n",
       "        text-align: right;\n",
       "    }\n",
       "</style>\n",
       "<table border=\"1\" class=\"dataframe\">\n",
       "  <thead>\n",
       "    <tr style=\"text-align: right;\">\n",
       "      <th></th>\n",
       "      <th>device_id</th>\n",
       "      <th>phone_brand</th>\n",
       "      <th>device_model</th>\n",
       "      <th>gender</th>\n",
       "      <th>age</th>\n",
       "      <th>group_train</th>\n",
       "    </tr>\n",
       "  </thead>\n",
       "  <tbody>\n",
       "    <tr>\n",
       "      <th>0</th>\n",
       "      <td>-7548291590301750000</td>\n",
       "      <td>Huawei</td>\n",
       "      <td>3C</td>\n",
       "      <td>M</td>\n",
       "      <td>33</td>\n",
       "      <td>M32+</td>\n",
       "    </tr>\n",
       "    <tr>\n",
       "      <th>1</th>\n",
       "      <td>6943568600617760000</td>\n",
       "      <td>Xiaomi</td>\n",
       "      <td>xnote</td>\n",
       "      <td>M</td>\n",
       "      <td>37</td>\n",
       "      <td>M32+</td>\n",
       "    </tr>\n",
       "    <tr>\n",
       "      <th>2</th>\n",
       "      <td>5441349705980020000</td>\n",
       "      <td>OPPO</td>\n",
       "      <td>R7s</td>\n",
       "      <td>M</td>\n",
       "      <td>40</td>\n",
       "      <td>M32+</td>\n",
       "    </tr>\n",
       "    <tr>\n",
       "      <th>3</th>\n",
       "      <td>-5393876656119450000</td>\n",
       "      <td>Xiaomi</td>\n",
       "      <td>MI 4</td>\n",
       "      <td>M</td>\n",
       "      <td>33</td>\n",
       "      <td>M32+</td>\n",
       "    </tr>\n",
       "    <tr>\n",
       "      <th>4</th>\n",
       "      <td>4543988487649880000</td>\n",
       "      <td>samsung</td>\n",
       "      <td>Galaxy S4</td>\n",
       "      <td>M</td>\n",
       "      <td>53</td>\n",
       "      <td>M32+</td>\n",
       "    </tr>\n",
       "  </tbody>\n",
       "</table>\n",
       "</div>"
      ],
      "text/plain": [
       "             device_id phone_brand device_model gender  age group_train\n",
       "0 -7548291590301750000      Huawei           3C      M   33        M32+\n",
       "1  6943568600617760000      Xiaomi        xnote      M   37        M32+\n",
       "2  5441349705980020000        OPPO          R7s      M   40        M32+\n",
       "3 -5393876656119450000      Xiaomi         MI 4      M   33        M32+\n",
       "4  4543988487649880000     samsung    Galaxy S4      M   53        M32+"
      ]
     },
     "execution_count": 5,
     "metadata": {},
     "output_type": "execute_result"
    }
   ],
   "source": [
    "dfnev.head(5)"
   ]
  },
  {
   "cell_type": "markdown",
   "metadata": {
    "id": "YT8MBT2C5r3t"
   },
   "source": [
    "Feature Engineering Non-event dataset\n",
    "4.\tYou may also think of grouping the existing categories to create a new supercategory that will establish a significance in predicting the outcome variable"
   ]
  },
  {
   "cell_type": "code",
   "execution_count": 6,
   "metadata": {
    "id": "JGo9JWPr78rb"
   },
   "outputs": [],
   "source": [
    "#function to calculage the age_group regardless of gender\n",
    "def getAgeGroup(row):\n",
    "    if (row['group_train'] == 'M0-24') or (row['group_train'] == 'F0-24') :\n",
    "        return '0-24'\n",
    "    elif (row['group_train'] == 'M25-32') or (row['group_train'] == 'F25-32') :\n",
    "        return '25-32' \n",
    "    else:\n",
    "        return '32+'"
   ]
  },
  {
   "cell_type": "code",
   "execution_count": 7,
   "metadata": {
    "id": "N8y7yK7B4gB-"
   },
   "outputs": [],
   "source": [
    "#create supercategory for age group\n",
    "dfnev['age_group'] = dfnev.apply(getAgeGroup, axis=1)"
   ]
  },
  {
   "cell_type": "code",
   "execution_count": 8,
   "metadata": {
    "colab": {
     "base_uri": "https://localhost:8080/",
     "height": 202
    },
    "id": "k-Xmpzrk9M8Z",
    "outputId": "8c12ea54-0de0-45a5-aa95-17819bd631b5"
   },
   "outputs": [
    {
     "data": {
      "text/html": [
       "<div>\n",
       "<style scoped>\n",
       "    .dataframe tbody tr th:only-of-type {\n",
       "        vertical-align: middle;\n",
       "    }\n",
       "\n",
       "    .dataframe tbody tr th {\n",
       "        vertical-align: top;\n",
       "    }\n",
       "\n",
       "    .dataframe thead th {\n",
       "        text-align: right;\n",
       "    }\n",
       "</style>\n",
       "<table border=\"1\" class=\"dataframe\">\n",
       "  <thead>\n",
       "    <tr style=\"text-align: right;\">\n",
       "      <th></th>\n",
       "      <th>device_id</th>\n",
       "      <th>phone_brand</th>\n",
       "      <th>device_model</th>\n",
       "      <th>gender</th>\n",
       "      <th>age</th>\n",
       "      <th>group_train</th>\n",
       "      <th>age_group</th>\n",
       "    </tr>\n",
       "  </thead>\n",
       "  <tbody>\n",
       "    <tr>\n",
       "      <th>0</th>\n",
       "      <td>-7548291590301750000</td>\n",
       "      <td>Huawei</td>\n",
       "      <td>3C</td>\n",
       "      <td>M</td>\n",
       "      <td>33</td>\n",
       "      <td>M32+</td>\n",
       "      <td>32+</td>\n",
       "    </tr>\n",
       "    <tr>\n",
       "      <th>1</th>\n",
       "      <td>6943568600617760000</td>\n",
       "      <td>Xiaomi</td>\n",
       "      <td>xnote</td>\n",
       "      <td>M</td>\n",
       "      <td>37</td>\n",
       "      <td>M32+</td>\n",
       "      <td>32+</td>\n",
       "    </tr>\n",
       "    <tr>\n",
       "      <th>2</th>\n",
       "      <td>5441349705980020000</td>\n",
       "      <td>OPPO</td>\n",
       "      <td>R7s</td>\n",
       "      <td>M</td>\n",
       "      <td>40</td>\n",
       "      <td>M32+</td>\n",
       "      <td>32+</td>\n",
       "    </tr>\n",
       "    <tr>\n",
       "      <th>3</th>\n",
       "      <td>-5393876656119450000</td>\n",
       "      <td>Xiaomi</td>\n",
       "      <td>MI 4</td>\n",
       "      <td>M</td>\n",
       "      <td>33</td>\n",
       "      <td>M32+</td>\n",
       "      <td>32+</td>\n",
       "    </tr>\n",
       "    <tr>\n",
       "      <th>4</th>\n",
       "      <td>4543988487649880000</td>\n",
       "      <td>samsung</td>\n",
       "      <td>Galaxy S4</td>\n",
       "      <td>M</td>\n",
       "      <td>53</td>\n",
       "      <td>M32+</td>\n",
       "      <td>32+</td>\n",
       "    </tr>\n",
       "  </tbody>\n",
       "</table>\n",
       "</div>"
      ],
      "text/plain": [
       "             device_id phone_brand device_model gender  age group_train  \\\n",
       "0 -7548291590301750000      Huawei           3C      M   33        M32+   \n",
       "1  6943568600617760000      Xiaomi        xnote      M   37        M32+   \n",
       "2  5441349705980020000        OPPO          R7s      M   40        M32+   \n",
       "3 -5393876656119450000      Xiaomi         MI 4      M   33        M32+   \n",
       "4  4543988487649880000     samsung    Galaxy S4      M   53        M32+   \n",
       "\n",
       "  age_group  \n",
       "0       32+  \n",
       "1       32+  \n",
       "2       32+  \n",
       "3       32+  \n",
       "4       32+  "
      ]
     },
     "execution_count": 8,
     "metadata": {},
     "output_type": "execute_result"
    }
   ],
   "source": [
    "dfnev.head(5)"
   ]
  },
  {
   "cell_type": "markdown",
   "metadata": {
    "id": "_FQxvPnfOJFG"
   },
   "source": [
    "Load event Dataset"
   ]
  },
  {
   "cell_type": "code",
   "execution_count": 9,
   "metadata": {},
   "outputs": [
    {
     "name": "stdout",
     "output_type": "stream",
     "text": [
      "download: s3://capstone-mm/final_submission/events_init.csv to ./events_init.csv\n"
     ]
    }
   ],
   "source": [
    "!aws s3 cp s3://capstone-mm/final_submission/events_init.csv ."
   ]
  },
  {
   "cell_type": "code",
   "execution_count": 10,
   "metadata": {
    "id": "bWkacShbvS-J"
   },
   "outputs": [],
   "source": [
    "#read events dataset into pandas dataframe\n",
    "dfev = pd.read_csv('events_init.csv', encoding='utf-8')\n"
   ]
  },
  {
   "cell_type": "code",
   "execution_count": 11,
   "metadata": {
    "colab": {
     "base_uri": "https://localhost:8080/",
     "height": 202
    },
    "id": "F6d4QYpKOTib",
    "outputId": "f4ff346a-b4e8-4ebc-a79f-30779488dd11"
   },
   "outputs": [
    {
     "data": {
      "text/html": [
       "<div>\n",
       "<style scoped>\n",
       "    .dataframe tbody tr th:only-of-type {\n",
       "        vertical-align: middle;\n",
       "    }\n",
       "\n",
       "    .dataframe tbody tr th {\n",
       "        vertical-align: top;\n",
       "    }\n",
       "\n",
       "    .dataframe thead th {\n",
       "        text-align: right;\n",
       "    }\n",
       "</style>\n",
       "<table border=\"1\" class=\"dataframe\">\n",
       "  <thead>\n",
       "    <tr style=\"text-align: right;\">\n",
       "      <th></th>\n",
       "      <th>device_id</th>\n",
       "      <th>event_id</th>\n",
       "      <th>event_time</th>\n",
       "      <th>latitude</th>\n",
       "      <th>longitude</th>\n",
       "      <th>gender</th>\n",
       "      <th>age</th>\n",
       "      <th>group_train</th>\n",
       "    </tr>\n",
       "  </thead>\n",
       "  <tbody>\n",
       "    <tr>\n",
       "      <th>0</th>\n",
       "      <td>-7548291590301750000</td>\n",
       "      <td>2279193</td>\n",
       "      <td>2016-05-03 03:10:01</td>\n",
       "      <td>116.79</td>\n",
       "      <td>33.98</td>\n",
       "      <td>M</td>\n",
       "      <td>33</td>\n",
       "      <td>M32+</td>\n",
       "    </tr>\n",
       "    <tr>\n",
       "      <th>1</th>\n",
       "      <td>-7548291590301750000</td>\n",
       "      <td>1121009</td>\n",
       "      <td>2016-05-03 15:37:40</td>\n",
       "      <td>116.79</td>\n",
       "      <td>33.98</td>\n",
       "      <td>M</td>\n",
       "      <td>33</td>\n",
       "      <td>M32+</td>\n",
       "    </tr>\n",
       "    <tr>\n",
       "      <th>2</th>\n",
       "      <td>-7548291590301750000</td>\n",
       "      <td>1121005</td>\n",
       "      <td>2016-05-03 15:33:51</td>\n",
       "      <td>116.79</td>\n",
       "      <td>33.98</td>\n",
       "      <td>M</td>\n",
       "      <td>33</td>\n",
       "      <td>M32+</td>\n",
       "    </tr>\n",
       "    <tr>\n",
       "      <th>3</th>\n",
       "      <td>-7548291590301750000</td>\n",
       "      <td>1113814</td>\n",
       "      <td>2016-05-01 10:27:52</td>\n",
       "      <td>116.79</td>\n",
       "      <td>33.98</td>\n",
       "      <td>M</td>\n",
       "      <td>33</td>\n",
       "      <td>M32+</td>\n",
       "    </tr>\n",
       "    <tr>\n",
       "      <th>4</th>\n",
       "      <td>-7548291590301750000</td>\n",
       "      <td>1113205</td>\n",
       "      <td>2016-05-04 09:10:43</td>\n",
       "      <td>116.79</td>\n",
       "      <td>33.98</td>\n",
       "      <td>M</td>\n",
       "      <td>33</td>\n",
       "      <td>M32+</td>\n",
       "    </tr>\n",
       "  </tbody>\n",
       "</table>\n",
       "</div>"
      ],
      "text/plain": [
       "             device_id  event_id           event_time  latitude  longitude  \\\n",
       "0 -7548291590301750000   2279193  2016-05-03 03:10:01    116.79      33.98   \n",
       "1 -7548291590301750000   1121009  2016-05-03 15:37:40    116.79      33.98   \n",
       "2 -7548291590301750000   1121005  2016-05-03 15:33:51    116.79      33.98   \n",
       "3 -7548291590301750000   1113814  2016-05-01 10:27:52    116.79      33.98   \n",
       "4 -7548291590301750000   1113205  2016-05-04 09:10:43    116.79      33.98   \n",
       "\n",
       "  gender  age group_train  \n",
       "0      M   33        M32+  \n",
       "1      M   33        M32+  \n",
       "2      M   33        M32+  \n",
       "3      M   33        M32+  \n",
       "4      M   33        M32+  "
      ]
     },
     "execution_count": 11,
     "metadata": {},
     "output_type": "execute_result"
    }
   ],
   "source": [
    "dfev.head(5)"
   ]
  },
  {
   "cell_type": "markdown",
   "metadata": {
    "id": "fwcAUCn8O4SW"
   },
   "source": [
    "Feature Engineering event dataset\n",
    "4.\tYou may also think of grouping the existing categories to create a new supercategory that will establish a significance in predicting the outcome variable"
   ]
  },
  {
   "cell_type": "code",
   "execution_count": 12,
   "metadata": {
    "id": "C9HFCxGFOeUA"
   },
   "outputs": [],
   "source": [
    "#create supercategory for age group\n",
    "dfev['age_group'] = dfev.apply(getAgeGroup, axis=1)"
   ]
  },
  {
   "cell_type": "code",
   "execution_count": 14,
   "metadata": {
    "colab": {
     "base_uri": "https://localhost:8080/",
     "height": 202
    },
    "id": "2VexKdoRmQAG",
    "outputId": "f515cc67-d8eb-46aa-cc05-f309dde5d815"
   },
   "outputs": [
    {
     "data": {
      "text/html": [
       "<div>\n",
       "<style scoped>\n",
       "    .dataframe tbody tr th:only-of-type {\n",
       "        vertical-align: middle;\n",
       "    }\n",
       "\n",
       "    .dataframe tbody tr th {\n",
       "        vertical-align: top;\n",
       "    }\n",
       "\n",
       "    .dataframe thead th {\n",
       "        text-align: right;\n",
       "    }\n",
       "</style>\n",
       "<table border=\"1\" class=\"dataframe\">\n",
       "  <thead>\n",
       "    <tr style=\"text-align: right;\">\n",
       "      <th></th>\n",
       "      <th>device_id</th>\n",
       "      <th>event_id</th>\n",
       "      <th>event_time</th>\n",
       "      <th>latitude</th>\n",
       "      <th>longitude</th>\n",
       "      <th>gender</th>\n",
       "      <th>age</th>\n",
       "      <th>group_train</th>\n",
       "      <th>age_group</th>\n",
       "    </tr>\n",
       "  </thead>\n",
       "  <tbody>\n",
       "    <tr>\n",
       "      <th>0</th>\n",
       "      <td>4676982795249940000</td>\n",
       "      <td>2958924</td>\n",
       "      <td>2016-05-01 22:03:46</td>\n",
       "      <td>113.24</td>\n",
       "      <td>22.85</td>\n",
       "      <td>M</td>\n",
       "      <td>52</td>\n",
       "      <td>M32+</td>\n",
       "      <td>32+</td>\n",
       "    </tr>\n",
       "    <tr>\n",
       "      <th>1</th>\n",
       "      <td>4782582047729160000</td>\n",
       "      <td>2958931</td>\n",
       "      <td>2016-05-01 22:24:09</td>\n",
       "      <td>114.47</td>\n",
       "      <td>38.03</td>\n",
       "      <td>M</td>\n",
       "      <td>36</td>\n",
       "      <td>M32+</td>\n",
       "      <td>32+</td>\n",
       "    </tr>\n",
       "    <tr>\n",
       "      <th>2</th>\n",
       "      <td>2181284491650730000</td>\n",
       "      <td>2958933</td>\n",
       "      <td>2016-05-01 22:24:44</td>\n",
       "      <td>125.66</td>\n",
       "      <td>43.02</td>\n",
       "      <td>M</td>\n",
       "      <td>28</td>\n",
       "      <td>M25-32</td>\n",
       "      <td>25-32</td>\n",
       "    </tr>\n",
       "    <tr>\n",
       "      <th>3</th>\n",
       "      <td>4221762657972680000</td>\n",
       "      <td>2958935</td>\n",
       "      <td>2016-05-01 22:40:47</td>\n",
       "      <td>115.19</td>\n",
       "      <td>24.07</td>\n",
       "      <td>F</td>\n",
       "      <td>19</td>\n",
       "      <td>F0-24</td>\n",
       "      <td>0-24</td>\n",
       "    </tr>\n",
       "    <tr>\n",
       "      <th>4</th>\n",
       "      <td>-6242501228649110000</td>\n",
       "      <td>2958939</td>\n",
       "      <td>2016-05-01 21:59:40</td>\n",
       "      <td>111.21</td>\n",
       "      <td>27.85</td>\n",
       "      <td>M</td>\n",
       "      <td>20</td>\n",
       "      <td>M0-24</td>\n",
       "      <td>0-24</td>\n",
       "    </tr>\n",
       "  </tbody>\n",
       "</table>\n",
       "</div>"
      ],
      "text/plain": [
       "             device_id  event_id           event_time  latitude  longitude  \\\n",
       "0  4676982795249940000   2958924  2016-05-01 22:03:46    113.24      22.85   \n",
       "1  4782582047729160000   2958931  2016-05-01 22:24:09    114.47      38.03   \n",
       "2  2181284491650730000   2958933  2016-05-01 22:24:44    125.66      43.02   \n",
       "3  4221762657972680000   2958935  2016-05-01 22:40:47    115.19      24.07   \n",
       "4 -6242501228649110000   2958939  2016-05-01 21:59:40    111.21      27.85   \n",
       "\n",
       "  gender  age group_train age_group  \n",
       "0      M   52        M32+       32+  \n",
       "1      M   36        M32+       32+  \n",
       "2      M   28      M25-32     25-32  \n",
       "3      F   19       F0-24      0-24  \n",
       "4      M   20       M0-24      0-24  "
      ]
     },
     "execution_count": 14,
     "metadata": {},
     "output_type": "execute_result"
    }
   ],
   "source": [
    "dfev.head(5)"
   ]
  },
  {
   "cell_type": "code",
   "execution_count": 15,
   "metadata": {
    "id": "2uBzEVCD0VNn"
   },
   "outputs": [],
   "source": [
    "#save non-event dataframe to csv\n",
    "dfnev.to_csv(r'non_events_init2.csv', index = False)"
   ]
  },
  {
   "cell_type": "code",
   "execution_count": 16,
   "metadata": {
    "id": "UruNhx5X0dqq"
   },
   "outputs": [],
   "source": [
    "#save event dataframe to csv\n",
    "dfev.to_csv(r'events_init2.csv', index = False)"
   ]
  },
  {
   "cell_type": "code",
   "execution_count": null,
   "metadata": {},
   "outputs": [],
   "source": []
  }
 ],
 "metadata": {
  "colab": {
   "collapsed_sections": [],
   "name": "Capstone2_InitTask2.ipynb",
   "provenance": []
  },
  "kernelspec": {
   "display_name": "Python 3 (ipykernel)",
   "language": "python",
   "name": "python3"
  },
  "language_info": {
   "codemirror_mode": {
    "name": "ipython",
    "version": 3
   },
   "file_extension": ".py",
   "mimetype": "text/x-python",
   "name": "python",
   "nbconvert_exporter": "python",
   "pygments_lexer": "ipython3",
   "version": "3.9.12"
  }
 },
 "nbformat": 4,
 "nbformat_minor": 4
}
